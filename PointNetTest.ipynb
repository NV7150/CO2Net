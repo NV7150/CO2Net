{
 "cells": [
  {
   "cell_type": "code",
   "execution_count": 1,
   "metadata": {
    "collapsed": true,
    "pycharm": {
     "name": "#%%\n"
    }
   },
   "outputs": [
    {
     "name": "stderr",
     "output_type": "stream",
     "text": [
      "C:\\Users\\DG\\miniconda3\\envs\\CO2Net\\lib\\site-packages\\scipy\\__init__.py:146: UserWarning: A NumPy version >=1.16.5 and <1.23.0 is required for this version of SciPy (detected version 1.23.1\n",
      "  warnings.warn(f\"A NumPy version >={np_minversion} and <{np_maxversion}\"\n"
     ]
    }
   ],
   "source": [
    "import os\n",
    "import glob\n",
    "import trimesh\n",
    "import numpy as np\n",
    "import tensorflow as tf\n",
    "from tensorflow import keras\n",
    "from tensorflow.keras import layers\n",
    "from matplotlib import pyplot as plt\n",
    "\n",
    "tf.random.set_seed(1234)"
   ]
  },
  {
   "cell_type": "code",
   "execution_count": 2,
   "outputs": [],
   "source": [
    "DATA_DIR = tf.keras.utils.get_file(\n",
    "    \"modelnet.zip\",\n",
    "    \"http://3dvision.princeton.edu/projects/2014/3DShapeNets/ModelNet10.zip\",\n",
    "    extract=True,\n",
    ")\n",
    "DATA_DIR = os.path.join(os.path.dirname(DATA_DIR), \"ModelNet10\")"
   ],
   "metadata": {
    "collapsed": false,
    "pycharm": {
     "name": "#%%\n"
    }
   }
  },
  {
   "cell_type": "code",
   "execution_count": 3,
   "outputs": [],
   "source": [
    "def parse_dataset(num_points=2048):\n",
    "\n",
    "    train_points = []\n",
    "    train_labels = []\n",
    "    test_points = []\n",
    "    test_labels = []\n",
    "    class_map = {}\n",
    "    folders = glob.glob(os.path.join(DATA_DIR, \"[!README]*\"))\n",
    "\n",
    "    for i, folder in enumerate(folders):\n",
    "        print(\"processing class: {}\".format(os.path.basename(folder)))\n",
    "        # store folder name with ID so we can retrieve later\n",
    "        class_map[i] = folder.split(\"/\")[-1]\n",
    "        # gather all files\n",
    "        train_files = glob.glob(os.path.join(folder, \"train/*\"))\n",
    "        test_files = glob.glob(os.path.join(folder, \"test/*\"))\n",
    "\n",
    "        for f in train_files:\n",
    "            train_points.append(trimesh.load(f).sample(num_points))\n",
    "            train_labels.append(i)\n",
    "\n",
    "        for f in test_files:\n",
    "            test_points.append(trimesh.load(f).sample(num_points))\n",
    "            test_labels.append(i)\n",
    "\n",
    "    return (\n",
    "        np.array(train_points),\n",
    "        np.array(test_points),\n",
    "        np.array(train_labels),\n",
    "        np.array(test_labels),\n",
    "        class_map,\n",
    "    )"
   ],
   "metadata": {
    "collapsed": false,
    "pycharm": {
     "name": "#%%\n"
    }
   }
  },
  {
   "cell_type": "code",
   "execution_count": 4,
   "outputs": [
    {
     "name": "stdout",
     "output_type": "stream",
     "text": [
      "processing class: bathtub\n",
      "processing class: bed\n",
      "processing class: chair\n",
      "processing class: night_stand\n",
      "processing class: sofa\n",
      "processing class: table\n",
      "processing class: toilet\n"
     ]
    }
   ],
   "source": [
    "NUM_POINTS = 2048\n",
    "NUM_CLASSES = 10\n",
    "BATCH_SIZE = 32\n",
    "\n",
    "train_points, test_points, train_labels, test_labels, CLASS_MAP = parse_dataset(\n",
    "    NUM_POINTS\n",
    ")"
   ],
   "metadata": {
    "collapsed": false,
    "pycharm": {
     "name": "#%%\n"
    }
   }
  },
  {
   "cell_type": "code",
   "execution_count": 5,
   "outputs": [],
   "source": [
    "def augment(points, label):\n",
    "    # jitter points\n",
    "    points += tf.random.uniform(points.shape, -0.005, 0.005, dtype=tf.float64)\n",
    "    # shuffle points\n",
    "    points = tf.random.shuffle(points)\n",
    "    return points, label\n",
    "\n",
    "\n",
    "train_dataset = tf.data.Dataset.from_tensor_slices((train_points, train_labels))\n",
    "test_dataset = tf.data.Dataset.from_tensor_slices((test_points, test_labels))\n",
    "\n",
    "train_dataset = train_dataset.shuffle(len(train_points)).map(augment).batch(BATCH_SIZE)\n",
    "test_dataset = test_dataset.shuffle(len(test_points)).batch(BATCH_SIZE)"
   ],
   "metadata": {
    "collapsed": false,
    "pycharm": {
     "name": "#%%\n"
    }
   }
  },
  {
   "cell_type": "code",
   "execution_count": 6,
   "outputs": [],
   "source": [
    "def conv_bn(x, filters):\n",
    "    x = layers.Conv1D(filters, kernel_size=1, padding=\"valid\")(x)\n",
    "    x = layers.BatchNormalization(momentum=0.0)(x)\n",
    "    return layers.Activation(\"relu\")(x)\n",
    "\n",
    "\n",
    "def dense_bn(x, filters):\n",
    "    x = layers.Dense(filters)(x)\n",
    "    x = layers.BatchNormalization(momentum=0.0)(x)\n",
    "    return layers.Activation(\"relu\")(x)"
   ],
   "metadata": {
    "collapsed": false,
    "pycharm": {
     "name": "#%%\n"
    }
   }
  },
  {
   "cell_type": "code",
   "execution_count": 7,
   "outputs": [],
   "source": [
    "class OrthogonalRegularizer(keras.regularizers.Regularizer):\n",
    "    def __init__(self, num_features, l2reg=0.001):\n",
    "        self.num_features = num_features\n",
    "        self.l2reg = l2reg\n",
    "        self.eye = tf.eye(num_features)\n",
    "\n",
    "    def __call__(self, x):\n",
    "        x = tf.reshape(x, (-1, self.num_features, self.num_features))\n",
    "        xxt = tf.tensordot(x, x, axes=(2, 2))\n",
    "        xxt = tf.reshape(xxt, (-1, self.num_features, self.num_features))\n",
    "        return tf.reduce_sum(self.l2reg * tf.square(xxt - self.eye))\n",
    "\n",
    "    def get_config(self):\n",
    "        config = {\n",
    "            \"num_features\": self.num_features,\n",
    "            \"l2reg\": self.l2reg,\n",
    "            \"eye\": self.eye\n",
    "        }\n",
    "        base_c = super().get_config()\n",
    "        return dict(list(base_c.items() + list(config.items())))"
   ],
   "metadata": {
    "collapsed": false,
    "pycharm": {
     "name": "#%%\n"
    }
   }
  },
  {
   "cell_type": "code",
   "execution_count": 8,
   "outputs": [],
   "source": [
    "def tnet(inputs, num_features):\n",
    "\n",
    "    # Initalise bias as the indentity matrix\n",
    "    bias = keras.initializers.Constant(np.eye(num_features).flatten())\n",
    "    reg = OrthogonalRegularizer(num_features)\n",
    "\n",
    "    x = conv_bn(inputs, 32)\n",
    "    x = conv_bn(x, 64)\n",
    "    x = conv_bn(x, 512)\n",
    "    x = layers.GlobalMaxPooling1D()(x)\n",
    "    x = dense_bn(x, 256)\n",
    "    x = dense_bn(x, 128)\n",
    "    x = layers.Dense(\n",
    "        num_features * num_features,\n",
    "        kernel_initializer=\"zeros\",\n",
    "        bias_initializer=bias,\n",
    "        activity_regularizer=reg,\n",
    "    )(x)\n",
    "    feat_T = layers.Reshape((num_features, num_features))(x)\n",
    "    # Apply affine transformation to input features\n",
    "    return layers.Dot(axes=(2, 1))([inputs, feat_T])"
   ],
   "metadata": {
    "collapsed": false,
    "pycharm": {
     "name": "#%%\n"
    }
   }
  },
  {
   "cell_type": "code",
   "execution_count": 13,
   "outputs": [
    {
     "data": {
      "text/plain": "{'value': array([1., 0., 0., ..., 0., 0., 1.])}"
     },
     "execution_count": 13,
     "metadata": {},
     "output_type": "execute_result"
    }
   ],
   "source": [
    "bias = keras.initializers.Constant(np.eye(32).flatten())\n",
    "bias.get_config()"
   ],
   "metadata": {
    "collapsed": false,
    "pycharm": {
     "name": "#%%\n"
    }
   }
  },
  {
   "cell_type": "code",
   "execution_count": 9,
   "outputs": [
    {
     "name": "stdout",
     "output_type": "stream",
     "text": [
      "Model: \"pointnet\"\n",
      "__________________________________________________________________________________________________\n",
      "Layer (type)                    Output Shape         Param #     Connected to                     \n",
      "==================================================================================================\n",
      "input_1 (InputLayer)            [(None, 2048, 3)]    0                                            \n",
      "__________________________________________________________________________________________________\n",
      "conv1d (Conv1D)                 (None, 2048, 32)     128         input_1[0][0]                    \n",
      "__________________________________________________________________________________________________\n",
      "batch_normalization (BatchNorma (None, 2048, 32)     128         conv1d[0][0]                     \n",
      "__________________________________________________________________________________________________\n",
      "activation (Activation)         (None, 2048, 32)     0           batch_normalization[0][0]        \n",
      "__________________________________________________________________________________________________\n",
      "conv1d_1 (Conv1D)               (None, 2048, 64)     2112        activation[0][0]                 \n",
      "__________________________________________________________________________________________________\n",
      "batch_normalization_1 (BatchNor (None, 2048, 64)     256         conv1d_1[0][0]                   \n",
      "__________________________________________________________________________________________________\n",
      "activation_1 (Activation)       (None, 2048, 64)     0           batch_normalization_1[0][0]      \n",
      "__________________________________________________________________________________________________\n",
      "conv1d_2 (Conv1D)               (None, 2048, 512)    33280       activation_1[0][0]               \n",
      "__________________________________________________________________________________________________\n",
      "batch_normalization_2 (BatchNor (None, 2048, 512)    2048        conv1d_2[0][0]                   \n",
      "__________________________________________________________________________________________________\n",
      "activation_2 (Activation)       (None, 2048, 512)    0           batch_normalization_2[0][0]      \n",
      "__________________________________________________________________________________________________\n",
      "global_max_pooling1d (GlobalMax (None, 512)          0           activation_2[0][0]               \n",
      "__________________________________________________________________________________________________\n",
      "dense (Dense)                   (None, 256)          131328      global_max_pooling1d[0][0]       \n",
      "__________________________________________________________________________________________________\n",
      "batch_normalization_3 (BatchNor (None, 256)          1024        dense[0][0]                      \n",
      "__________________________________________________________________________________________________\n",
      "activation_3 (Activation)       (None, 256)          0           batch_normalization_3[0][0]      \n",
      "__________________________________________________________________________________________________\n",
      "dense_1 (Dense)                 (None, 128)          32896       activation_3[0][0]               \n",
      "__________________________________________________________________________________________________\n",
      "batch_normalization_4 (BatchNor (None, 128)          512         dense_1[0][0]                    \n",
      "__________________________________________________________________________________________________\n",
      "activation_4 (Activation)       (None, 128)          0           batch_normalization_4[0][0]      \n",
      "__________________________________________________________________________________________________\n",
      "dense_2 (Dense)                 (None, 9)            1161        activation_4[0][0]               \n",
      "__________________________________________________________________________________________________\n",
      "reshape (Reshape)               (None, 3, 3)         0           dense_2[0][0]                    \n",
      "__________________________________________________________________________________________________\n",
      "dot (Dot)                       (None, 2048, 3)      0           input_1[0][0]                    \n",
      "                                                                 reshape[0][0]                    \n",
      "__________________________________________________________________________________________________\n",
      "conv1d_3 (Conv1D)               (None, 2048, 32)     128         dot[0][0]                        \n",
      "__________________________________________________________________________________________________\n",
      "batch_normalization_5 (BatchNor (None, 2048, 32)     128         conv1d_3[0][0]                   \n",
      "__________________________________________________________________________________________________\n",
      "activation_5 (Activation)       (None, 2048, 32)     0           batch_normalization_5[0][0]      \n",
      "__________________________________________________________________________________________________\n",
      "conv1d_4 (Conv1D)               (None, 2048, 32)     1056        activation_5[0][0]               \n",
      "__________________________________________________________________________________________________\n",
      "batch_normalization_6 (BatchNor (None, 2048, 32)     128         conv1d_4[0][0]                   \n",
      "__________________________________________________________________________________________________\n",
      "activation_6 (Activation)       (None, 2048, 32)     0           batch_normalization_6[0][0]      \n",
      "__________________________________________________________________________________________________\n",
      "conv1d_5 (Conv1D)               (None, 2048, 32)     1056        activation_6[0][0]               \n",
      "__________________________________________________________________________________________________\n",
      "batch_normalization_7 (BatchNor (None, 2048, 32)     128         conv1d_5[0][0]                   \n",
      "__________________________________________________________________________________________________\n",
      "activation_7 (Activation)       (None, 2048, 32)     0           batch_normalization_7[0][0]      \n",
      "__________________________________________________________________________________________________\n",
      "conv1d_6 (Conv1D)               (None, 2048, 64)     2112        activation_7[0][0]               \n",
      "__________________________________________________________________________________________________\n",
      "batch_normalization_8 (BatchNor (None, 2048, 64)     256         conv1d_6[0][0]                   \n",
      "__________________________________________________________________________________________________\n",
      "activation_8 (Activation)       (None, 2048, 64)     0           batch_normalization_8[0][0]      \n",
      "__________________________________________________________________________________________________\n",
      "conv1d_7 (Conv1D)               (None, 2048, 512)    33280       activation_8[0][0]               \n",
      "__________________________________________________________________________________________________\n",
      "batch_normalization_9 (BatchNor (None, 2048, 512)    2048        conv1d_7[0][0]                   \n",
      "__________________________________________________________________________________________________\n",
      "activation_9 (Activation)       (None, 2048, 512)    0           batch_normalization_9[0][0]      \n",
      "__________________________________________________________________________________________________\n",
      "global_max_pooling1d_1 (GlobalM (None, 512)          0           activation_9[0][0]               \n",
      "__________________________________________________________________________________________________\n",
      "dense_3 (Dense)                 (None, 256)          131328      global_max_pooling1d_1[0][0]     \n",
      "__________________________________________________________________________________________________\n",
      "batch_normalization_10 (BatchNo (None, 256)          1024        dense_3[0][0]                    \n",
      "__________________________________________________________________________________________________\n",
      "activation_10 (Activation)      (None, 256)          0           batch_normalization_10[0][0]     \n",
      "__________________________________________________________________________________________________\n",
      "dense_4 (Dense)                 (None, 128)          32896       activation_10[0][0]              \n",
      "__________________________________________________________________________________________________\n",
      "batch_normalization_11 (BatchNo (None, 128)          512         dense_4[0][0]                    \n",
      "__________________________________________________________________________________________________\n",
      "activation_11 (Activation)      (None, 128)          0           batch_normalization_11[0][0]     \n",
      "__________________________________________________________________________________________________\n",
      "dense_5 (Dense)                 (None, 1024)         132096      activation_11[0][0]              \n",
      "__________________________________________________________________________________________________\n",
      "reshape_1 (Reshape)             (None, 32, 32)       0           dense_5[0][0]                    \n",
      "__________________________________________________________________________________________________\n",
      "dot_1 (Dot)                     (None, 2048, 32)     0           activation_6[0][0]               \n",
      "                                                                 reshape_1[0][0]                  \n",
      "__________________________________________________________________________________________________\n",
      "conv1d_8 (Conv1D)               (None, 2048, 32)     1056        dot_1[0][0]                      \n",
      "__________________________________________________________________________________________________\n",
      "batch_normalization_12 (BatchNo (None, 2048, 32)     128         conv1d_8[0][0]                   \n",
      "__________________________________________________________________________________________________\n",
      "activation_12 (Activation)      (None, 2048, 32)     0           batch_normalization_12[0][0]     \n",
      "__________________________________________________________________________________________________\n",
      "conv1d_9 (Conv1D)               (None, 2048, 64)     2112        activation_12[0][0]              \n",
      "__________________________________________________________________________________________________\n",
      "batch_normalization_13 (BatchNo (None, 2048, 64)     256         conv1d_9[0][0]                   \n",
      "__________________________________________________________________________________________________\n",
      "activation_13 (Activation)      (None, 2048, 64)     0           batch_normalization_13[0][0]     \n",
      "__________________________________________________________________________________________________\n",
      "conv1d_10 (Conv1D)              (None, 2048, 512)    33280       activation_13[0][0]              \n",
      "__________________________________________________________________________________________________\n",
      "batch_normalization_14 (BatchNo (None, 2048, 512)    2048        conv1d_10[0][0]                  \n",
      "__________________________________________________________________________________________________\n",
      "activation_14 (Activation)      (None, 2048, 512)    0           batch_normalization_14[0][0]     \n",
      "__________________________________________________________________________________________________\n",
      "global_max_pooling1d_2 (GlobalM (None, 512)          0           activation_14[0][0]              \n",
      "__________________________________________________________________________________________________\n",
      "dense_6 (Dense)                 (None, 256)          131328      global_max_pooling1d_2[0][0]     \n",
      "__________________________________________________________________________________________________\n",
      "batch_normalization_15 (BatchNo (None, 256)          1024        dense_6[0][0]                    \n",
      "__________________________________________________________________________________________________\n",
      "activation_15 (Activation)      (None, 256)          0           batch_normalization_15[0][0]     \n",
      "__________________________________________________________________________________________________\n",
      "dropout (Dropout)               (None, 256)          0           activation_15[0][0]              \n",
      "__________________________________________________________________________________________________\n",
      "dense_7 (Dense)                 (None, 128)          32896       dropout[0][0]                    \n",
      "__________________________________________________________________________________________________\n",
      "batch_normalization_16 (BatchNo (None, 128)          512         dense_7[0][0]                    \n",
      "__________________________________________________________________________________________________\n",
      "activation_16 (Activation)      (None, 128)          0           batch_normalization_16[0][0]     \n",
      "__________________________________________________________________________________________________\n",
      "dropout_1 (Dropout)             (None, 128)          0           activation_16[0][0]              \n",
      "__________________________________________________________________________________________________\n",
      "dense_8 (Dense)                 (None, 10)           1290        dropout_1[0][0]                  \n",
      "==================================================================================================\n",
      "Total params: 748,979\n",
      "Trainable params: 742,899\n",
      "Non-trainable params: 6,080\n",
      "__________________________________________________________________________________________________\n"
     ]
    }
   ],
   "source": [
    "inputs = keras.Input(shape=(NUM_POINTS, 3))\n",
    "\n",
    "x = tnet(inputs, 3)\n",
    "x = conv_bn(x, 32)\n",
    "x = conv_bn(x, 32)\n",
    "x = tnet(x, 32)\n",
    "x = conv_bn(x, 32)\n",
    "x = conv_bn(x, 64)\n",
    "x = conv_bn(x, 512)\n",
    "x = layers.GlobalMaxPooling1D()(x)\n",
    "x = dense_bn(x, 256)\n",
    "x = layers.Dropout(0.3)(x)\n",
    "x = dense_bn(x, 128)\n",
    "x = layers.Dropout(0.3)(x)\n",
    "\n",
    "outputs = layers.Dense(NUM_CLASSES, activation=\"softmax\")(x)\n",
    "\n",
    "model = keras.Model(inputs=inputs, outputs=outputs, name=\"pointnet\")\n",
    "model.summary()"
   ],
   "metadata": {
    "collapsed": false,
    "pycharm": {
     "name": "#%%\n"
    }
   }
  },
  {
   "cell_type": "code",
   "execution_count": 10,
   "outputs": [
    {
     "name": "stdout",
     "output_type": "stream",
     "text": [
      "98/98 [==============================] - 615s 6s/step - loss: 3.3814 - sparse_categorical_accuracy: 0.3490 - val_loss: 3799031296.0000 - val_sparse_categorical_accuracy: 0.2720\n"
     ]
    },
    {
     "data": {
      "text/plain": "<tensorflow.python.keras.callbacks.History at 0x1f69345eb20>"
     },
     "execution_count": 10,
     "metadata": {},
     "output_type": "execute_result"
    }
   ],
   "source": [
    "model.compile(\n",
    "    loss=\"sparse_categorical_crossentropy\",\n",
    "    optimizer=keras.optimizers.Adam(learning_rate=0.001),\n",
    "    metrics=[\"sparse_categorical_accuracy\"],\n",
    ")\n",
    "\n",
    "model.fit(train_dataset, epochs=1, validation_data=test_dataset)"
   ],
   "metadata": {
    "collapsed": false,
    "pycharm": {
     "name": "#%%\n"
    }
   }
  },
  {
   "cell_type": "code",
   "execution_count": 11,
   "outputs": [
    {
     "name": "stdout",
     "output_type": "stream",
     "text": [
      "WARNING:tensorflow:From C:\\Users\\DG\\miniconda3\\envs\\CO2Net\\lib\\site-packages\\tensorflow\\python\\training\\tracking\\tracking.py:111: Model.state_updates (from tensorflow.python.keras.engine.training) is deprecated and will be removed in a future version.\n",
      "Instructions for updating:\n",
      "This property should not be used in TensorFlow 2.0, as updates are applied automatically.\n",
      "WARNING:tensorflow:From C:\\Users\\DG\\miniconda3\\envs\\CO2Net\\lib\\site-packages\\tensorflow\\python\\training\\tracking\\tracking.py:111: Layer.updates (from tensorflow.python.keras.engine.base_layer) is deprecated and will be removed in a future version.\n",
      "Instructions for updating:\n",
      "This property should not be used in TensorFlow 2.0, as updates are applied automatically.\n"
     ]
    },
    {
     "ename": "NotImplementedError",
     "evalue": "<__main__.OrthogonalRegularizer object at 0x000001F69DD73CD0> does not implement get_config()",
     "output_type": "error",
     "traceback": [
      "\u001B[1;31m---------------------------------------------------------------------------\u001B[0m",
      "\u001B[1;31mNotImplementedError\u001B[0m                       Traceback (most recent call last)",
      "Input \u001B[1;32mIn [11]\u001B[0m, in \u001B[0;36m<cell line: 1>\u001B[1;34m()\u001B[0m\n\u001B[1;32m----> 1\u001B[0m \u001B[43mmodel\u001B[49m\u001B[38;5;241;43m.\u001B[39;49m\u001B[43msave\u001B[49m\u001B[43m(\u001B[49m\u001B[38;5;124;43m\"\u001B[39;49m\u001B[38;5;124;43mpointnettest1\u001B[39;49m\u001B[38;5;124;43m\"\u001B[39;49m\u001B[43m)\u001B[49m\n",
      "File \u001B[1;32m~\\miniconda3\\envs\\CO2Net\\lib\\site-packages\\tensorflow\\python\\keras\\engine\\training.py:1978\u001B[0m, in \u001B[0;36mModel.save\u001B[1;34m(self, filepath, overwrite, include_optimizer, save_format, signatures, options)\u001B[0m\n\u001B[0;32m   1918\u001B[0m \u001B[38;5;28;01mdef\u001B[39;00m \u001B[38;5;21msave\u001B[39m(\u001B[38;5;28mself\u001B[39m,\n\u001B[0;32m   1919\u001B[0m          filepath,\n\u001B[0;32m   1920\u001B[0m          overwrite\u001B[38;5;241m=\u001B[39m\u001B[38;5;28;01mTrue\u001B[39;00m,\n\u001B[1;32m   (...)\u001B[0m\n\u001B[0;32m   1923\u001B[0m          signatures\u001B[38;5;241m=\u001B[39m\u001B[38;5;28;01mNone\u001B[39;00m,\n\u001B[0;32m   1924\u001B[0m          options\u001B[38;5;241m=\u001B[39m\u001B[38;5;28;01mNone\u001B[39;00m):\n\u001B[0;32m   1925\u001B[0m   \u001B[38;5;124;03m\"\"\"Saves the model to Tensorflow SavedModel or a single HDF5 file.\u001B[39;00m\n\u001B[0;32m   1926\u001B[0m \n\u001B[0;32m   1927\u001B[0m \u001B[38;5;124;03m  The savefile includes:\u001B[39;00m\n\u001B[1;32m   (...)\u001B[0m\n\u001B[0;32m   1976\u001B[0m \u001B[38;5;124;03m  ```\u001B[39;00m\n\u001B[0;32m   1977\u001B[0m \u001B[38;5;124;03m  \"\"\"\u001B[39;00m\n\u001B[1;32m-> 1978\u001B[0m   \u001B[43msave\u001B[49m\u001B[38;5;241;43m.\u001B[39;49m\u001B[43msave_model\u001B[49m\u001B[43m(\u001B[49m\u001B[38;5;28;43mself\u001B[39;49m\u001B[43m,\u001B[49m\u001B[43m \u001B[49m\u001B[43mfilepath\u001B[49m\u001B[43m,\u001B[49m\u001B[43m \u001B[49m\u001B[43moverwrite\u001B[49m\u001B[43m,\u001B[49m\u001B[43m \u001B[49m\u001B[43minclude_optimizer\u001B[49m\u001B[43m,\u001B[49m\u001B[43m \u001B[49m\u001B[43msave_format\u001B[49m\u001B[43m,\u001B[49m\n\u001B[0;32m   1979\u001B[0m \u001B[43m                  \u001B[49m\u001B[43msignatures\u001B[49m\u001B[43m,\u001B[49m\u001B[43m \u001B[49m\u001B[43moptions\u001B[49m\u001B[43m)\u001B[49m\n",
      "File \u001B[1;32m~\\miniconda3\\envs\\CO2Net\\lib\\site-packages\\tensorflow\\python\\keras\\saving\\save.py:133\u001B[0m, in \u001B[0;36msave_model\u001B[1;34m(model, filepath, overwrite, include_optimizer, save_format, signatures, options)\u001B[0m\n\u001B[0;32m    130\u001B[0m   hdf5_format\u001B[38;5;241m.\u001B[39msave_model_to_hdf5(\n\u001B[0;32m    131\u001B[0m       model, filepath, overwrite, include_optimizer)\n\u001B[0;32m    132\u001B[0m \u001B[38;5;28;01melse\u001B[39;00m:\n\u001B[1;32m--> 133\u001B[0m   \u001B[43msaved_model_save\u001B[49m\u001B[38;5;241;43m.\u001B[39;49m\u001B[43msave\u001B[49m\u001B[43m(\u001B[49m\u001B[43mmodel\u001B[49m\u001B[43m,\u001B[49m\u001B[43m \u001B[49m\u001B[43mfilepath\u001B[49m\u001B[43m,\u001B[49m\u001B[43m \u001B[49m\u001B[43moverwrite\u001B[49m\u001B[43m,\u001B[49m\u001B[43m \u001B[49m\u001B[43minclude_optimizer\u001B[49m\u001B[43m,\u001B[49m\n\u001B[0;32m    134\u001B[0m \u001B[43m                        \u001B[49m\u001B[43msignatures\u001B[49m\u001B[43m,\u001B[49m\u001B[43m \u001B[49m\u001B[43moptions\u001B[49m\u001B[43m)\u001B[49m\n",
      "File \u001B[1;32m~\\miniconda3\\envs\\CO2Net\\lib\\site-packages\\tensorflow\\python\\keras\\saving\\saved_model\\save.py:80\u001B[0m, in \u001B[0;36msave\u001B[1;34m(model, filepath, overwrite, include_optimizer, signatures, options)\u001B[0m\n\u001B[0;32m     75\u001B[0m \u001B[38;5;28;01mwith\u001B[39;00m K\u001B[38;5;241m.\u001B[39mdeprecated_internal_learning_phase_scope(\u001B[38;5;241m0\u001B[39m):\n\u001B[0;32m     76\u001B[0m   \u001B[38;5;66;03m# When saving a model involving batch norm layer within a strategy scope,\u001B[39;00m\n\u001B[0;32m     77\u001B[0m   \u001B[38;5;66;03m# the replica context is not available when calling `add_update()`, and thus\u001B[39;00m\n\u001B[0;32m     78\u001B[0m   \u001B[38;5;66;03m# we use the default replica context here.\u001B[39;00m\n\u001B[0;32m     79\u001B[0m   \u001B[38;5;28;01mwith\u001B[39;00m distribution_strategy_context\u001B[38;5;241m.\u001B[39m_get_default_replica_context():  \u001B[38;5;66;03m# pylint: disable=protected-access\u001B[39;00m\n\u001B[1;32m---> 80\u001B[0m     \u001B[43msave_lib\u001B[49m\u001B[38;5;241;43m.\u001B[39;49m\u001B[43msave\u001B[49m\u001B[43m(\u001B[49m\u001B[43mmodel\u001B[49m\u001B[43m,\u001B[49m\u001B[43m \u001B[49m\u001B[43mfilepath\u001B[49m\u001B[43m,\u001B[49m\u001B[43m \u001B[49m\u001B[43msignatures\u001B[49m\u001B[43m,\u001B[49m\u001B[43m \u001B[49m\u001B[43moptions\u001B[49m\u001B[43m)\u001B[49m\n\u001B[0;32m     82\u001B[0m \u001B[38;5;28;01mif\u001B[39;00m \u001B[38;5;129;01mnot\u001B[39;00m include_optimizer:\n\u001B[0;32m     83\u001B[0m   model\u001B[38;5;241m.\u001B[39moptimizer \u001B[38;5;241m=\u001B[39m orig_optimizer\n",
      "File \u001B[1;32m~\\miniconda3\\envs\\CO2Net\\lib\\site-packages\\tensorflow\\python\\saved_model\\save.py:975\u001B[0m, in \u001B[0;36msave\u001B[1;34m(obj, export_dir, signatures, options)\u001B[0m\n\u001B[0;32m    972\u001B[0m saved_model \u001B[38;5;241m=\u001B[39m saved_model_pb2\u001B[38;5;241m.\u001B[39mSavedModel()\n\u001B[0;32m    973\u001B[0m meta_graph_def \u001B[38;5;241m=\u001B[39m saved_model\u001B[38;5;241m.\u001B[39mmeta_graphs\u001B[38;5;241m.\u001B[39madd()\n\u001B[1;32m--> 975\u001B[0m _, exported_graph, object_saver, asset_info \u001B[38;5;241m=\u001B[39m \u001B[43m_build_meta_graph\u001B[49m\u001B[43m(\u001B[49m\n\u001B[0;32m    976\u001B[0m \u001B[43m    \u001B[49m\u001B[43mobj\u001B[49m\u001B[43m,\u001B[49m\u001B[43m \u001B[49m\u001B[43mexport_dir\u001B[49m\u001B[43m,\u001B[49m\u001B[43m \u001B[49m\u001B[43msignatures\u001B[49m\u001B[43m,\u001B[49m\u001B[43m \u001B[49m\u001B[43moptions\u001B[49m\u001B[43m,\u001B[49m\u001B[43m \u001B[49m\u001B[43mmeta_graph_def\u001B[49m\u001B[43m)\u001B[49m\n\u001B[0;32m    977\u001B[0m saved_model\u001B[38;5;241m.\u001B[39msaved_model_schema_version \u001B[38;5;241m=\u001B[39m constants\u001B[38;5;241m.\u001B[39mSAVED_MODEL_SCHEMA_VERSION\n\u001B[0;32m    979\u001B[0m \u001B[38;5;66;03m# Write the checkpoint, copy assets into the assets directory, and write out\u001B[39;00m\n\u001B[0;32m    980\u001B[0m \u001B[38;5;66;03m# the SavedModel proto itself.\u001B[39;00m\n",
      "File \u001B[1;32m~\\miniconda3\\envs\\CO2Net\\lib\\site-packages\\tensorflow\\python\\saved_model\\save.py:1075\u001B[0m, in \u001B[0;36m_build_meta_graph\u001B[1;34m(obj, export_dir, signatures, options, meta_graph_def)\u001B[0m\n\u001B[0;32m   1072\u001B[0m     \u001B[38;5;28;01mfor\u001B[39;00m fdef \u001B[38;5;129;01min\u001B[39;00m func\u001B[38;5;241m.\u001B[39m_stateless_fn\u001B[38;5;241m.\u001B[39m_function_cache\u001B[38;5;241m.\u001B[39mall_values():  \u001B[38;5;66;03m# pylint: disable=protected-access\u001B[39;00m\n\u001B[0;32m   1073\u001B[0m       function_aliases[fdef\u001B[38;5;241m.\u001B[39mname] \u001B[38;5;241m=\u001B[39m alias\n\u001B[1;32m-> 1075\u001B[0m object_graph_proto \u001B[38;5;241m=\u001B[39m \u001B[43m_serialize_object_graph\u001B[49m\u001B[43m(\u001B[49m\u001B[43msaveable_view\u001B[49m\u001B[43m,\u001B[49m\n\u001B[0;32m   1076\u001B[0m \u001B[43m                                             \u001B[49m\u001B[43masset_info\u001B[49m\u001B[38;5;241;43m.\u001B[39;49m\u001B[43masset_index\u001B[49m\u001B[43m)\u001B[49m\n\u001B[0;32m   1077\u001B[0m meta_graph_def\u001B[38;5;241m.\u001B[39mobject_graph_def\u001B[38;5;241m.\u001B[39mCopyFrom(object_graph_proto)\n\u001B[0;32m   1079\u001B[0m \u001B[38;5;66;03m# Save debug info, if requested.\u001B[39;00m\n",
      "File \u001B[1;32m~\\miniconda3\\envs\\CO2Net\\lib\\site-packages\\tensorflow\\python\\saved_model\\save.py:720\u001B[0m, in \u001B[0;36m_serialize_object_graph\u001B[1;34m(saveable_view, asset_file_def_index)\u001B[0m\n\u001B[0;32m    717\u001B[0m     proto\u001B[38;5;241m.\u001B[39mconcrete_functions[name]\u001B[38;5;241m.\u001B[39mCopyFrom(serialized)\n\u001B[0;32m    719\u001B[0m \u001B[38;5;28;01mfor\u001B[39;00m obj, obj_proto \u001B[38;5;129;01min\u001B[39;00m \u001B[38;5;28mzip\u001B[39m(saveable_view\u001B[38;5;241m.\u001B[39mnodes, proto\u001B[38;5;241m.\u001B[39mnodes):\n\u001B[1;32m--> 720\u001B[0m   \u001B[43m_write_object_proto\u001B[49m\u001B[43m(\u001B[49m\u001B[43mobj\u001B[49m\u001B[43m,\u001B[49m\u001B[43m \u001B[49m\u001B[43mobj_proto\u001B[49m\u001B[43m,\u001B[49m\u001B[43m \u001B[49m\u001B[43masset_file_def_index\u001B[49m\u001B[43m,\u001B[49m\n\u001B[0;32m    721\u001B[0m \u001B[43m                      \u001B[49m\u001B[43msaveable_view\u001B[49m\u001B[38;5;241;43m.\u001B[39;49m\u001B[43mfunction_name_map\u001B[49m\u001B[43m)\u001B[49m\n\u001B[0;32m    722\u001B[0m \u001B[38;5;28;01mreturn\u001B[39;00m proto\n",
      "File \u001B[1;32m~\\miniconda3\\envs\\CO2Net\\lib\\site-packages\\tensorflow\\python\\saved_model\\save.py:761\u001B[0m, in \u001B[0;36m_write_object_proto\u001B[1;34m(obj, proto, asset_file_def_index, function_name_map)\u001B[0m\n\u001B[0;32m    753\u001B[0m registered_type_proto \u001B[38;5;241m=\u001B[39m revived_types\u001B[38;5;241m.\u001B[39mserialize(obj)\n\u001B[0;32m    754\u001B[0m \u001B[38;5;28;01mif\u001B[39;00m registered_type_proto \u001B[38;5;129;01mis\u001B[39;00m \u001B[38;5;28;01mNone\u001B[39;00m:\n\u001B[0;32m    755\u001B[0m   \u001B[38;5;66;03m# Fallback for types with no matching registration\u001B[39;00m\n\u001B[0;32m    756\u001B[0m   \u001B[38;5;66;03m# pylint:disable=protected-access\u001B[39;00m\n\u001B[0;32m    757\u001B[0m   registered_type_proto \u001B[38;5;241m=\u001B[39m saved_object_graph_pb2\u001B[38;5;241m.\u001B[39mSavedUserObject(\n\u001B[0;32m    758\u001B[0m       identifier\u001B[38;5;241m=\u001B[39mobj\u001B[38;5;241m.\u001B[39m_object_identifier,\n\u001B[0;32m    759\u001B[0m       version\u001B[38;5;241m=\u001B[39mversions_pb2\u001B[38;5;241m.\u001B[39mVersionDef(\n\u001B[0;32m    760\u001B[0m           producer\u001B[38;5;241m=\u001B[39m\u001B[38;5;241m1\u001B[39m, min_consumer\u001B[38;5;241m=\u001B[39m\u001B[38;5;241m1\u001B[39m, bad_consumers\u001B[38;5;241m=\u001B[39m[]),\n\u001B[1;32m--> 761\u001B[0m       metadata\u001B[38;5;241m=\u001B[39m\u001B[43mobj\u001B[49m\u001B[38;5;241;43m.\u001B[39;49m\u001B[43m_tracking_metadata\u001B[49m)\n\u001B[0;32m    762\u001B[0m   \u001B[38;5;66;03m# pylint:enable=protected-access\u001B[39;00m\n\u001B[0;32m    763\u001B[0m proto\u001B[38;5;241m.\u001B[39muser_object\u001B[38;5;241m.\u001B[39mCopyFrom(registered_type_proto)\n",
      "File \u001B[1;32m~\\miniconda3\\envs\\CO2Net\\lib\\site-packages\\tensorflow\\python\\keras\\engine\\base_layer.py:3011\u001B[0m, in \u001B[0;36mLayer._tracking_metadata\u001B[1;34m(self)\u001B[0m\n\u001B[0;32m   3009\u001B[0m \u001B[38;5;129m@property\u001B[39m\n\u001B[0;32m   3010\u001B[0m \u001B[38;5;28;01mdef\u001B[39;00m \u001B[38;5;21m_tracking_metadata\u001B[39m(\u001B[38;5;28mself\u001B[39m):\n\u001B[1;32m-> 3011\u001B[0m   \u001B[38;5;28;01mreturn\u001B[39;00m \u001B[38;5;28;43mself\u001B[39;49m\u001B[38;5;241;43m.\u001B[39;49m\u001B[43m_trackable_saved_model_saver\u001B[49m\u001B[38;5;241;43m.\u001B[39;49m\u001B[43mtracking_metadata\u001B[49m\n",
      "File \u001B[1;32m~\\miniconda3\\envs\\CO2Net\\lib\\site-packages\\tensorflow\\python\\keras\\saving\\saved_model\\base_serialization.py:54\u001B[0m, in \u001B[0;36mSavedModelSaver.tracking_metadata\u001B[1;34m(self)\u001B[0m\n\u001B[0;32m     47\u001B[0m \u001B[38;5;124;03m\"\"\"String stored in metadata field in the SavedModel proto.\u001B[39;00m\n\u001B[0;32m     48\u001B[0m \n\u001B[0;32m     49\u001B[0m \u001B[38;5;124;03mReturns:\u001B[39;00m\n\u001B[0;32m     50\u001B[0m \u001B[38;5;124;03m  A serialized JSON storing information necessary for recreating this layer.\u001B[39;00m\n\u001B[0;32m     51\u001B[0m \u001B[38;5;124;03m\"\"\"\u001B[39;00m\n\u001B[0;32m     52\u001B[0m \u001B[38;5;66;03m# TODO(kathywu): check that serialized JSON can be loaded (e.g., if an\u001B[39;00m\n\u001B[0;32m     53\u001B[0m \u001B[38;5;66;03m# object is in the python property)\u001B[39;00m\n\u001B[1;32m---> 54\u001B[0m \u001B[38;5;28;01mreturn\u001B[39;00m json_utils\u001B[38;5;241m.\u001B[39mEncoder()\u001B[38;5;241m.\u001B[39mencode(\u001B[38;5;28;43mself\u001B[39;49m\u001B[38;5;241;43m.\u001B[39;49m\u001B[43mpython_properties\u001B[49m)\n",
      "File \u001B[1;32m~\\miniconda3\\envs\\CO2Net\\lib\\site-packages\\tensorflow\\python\\keras\\saving\\saved_model\\layer_serialization.py:41\u001B[0m, in \u001B[0;36mLayerSavedModelSaver.python_properties\u001B[1;34m(self)\u001B[0m\n\u001B[0;32m     38\u001B[0m \u001B[38;5;129m@property\u001B[39m\n\u001B[0;32m     39\u001B[0m \u001B[38;5;28;01mdef\u001B[39;00m \u001B[38;5;21mpython_properties\u001B[39m(\u001B[38;5;28mself\u001B[39m):\n\u001B[0;32m     40\u001B[0m   \u001B[38;5;66;03m# TODO(kathywu): Add python property validator\u001B[39;00m\n\u001B[1;32m---> 41\u001B[0m   \u001B[38;5;28;01mreturn\u001B[39;00m \u001B[38;5;28;43mself\u001B[39;49m\u001B[38;5;241;43m.\u001B[39;49m\u001B[43m_python_properties_internal\u001B[49m\u001B[43m(\u001B[49m\u001B[43m)\u001B[49m\n",
      "File \u001B[1;32m~\\miniconda3\\envs\\CO2Net\\lib\\site-packages\\tensorflow\\python\\keras\\saving\\saved_model\\layer_serialization.py:67\u001B[0m, in \u001B[0;36mLayerSavedModelSaver._python_properties_internal\u001B[1;34m(self)\u001B[0m\n\u001B[0;32m     62\u001B[0m   metadata[\u001B[38;5;124m'\u001B[39m\u001B[38;5;124minput_spec\u001B[39m\u001B[38;5;124m'\u001B[39m] \u001B[38;5;241m=\u001B[39m nest\u001B[38;5;241m.\u001B[39mmap_structure(\n\u001B[0;32m     63\u001B[0m       \u001B[38;5;28;01mlambda\u001B[39;00m x: generic_utils\u001B[38;5;241m.\u001B[39mserialize_keras_object(x) \u001B[38;5;28;01mif\u001B[39;00m x \u001B[38;5;28;01melse\u001B[39;00m \u001B[38;5;28;01mNone\u001B[39;00m,\n\u001B[0;32m     64\u001B[0m       \u001B[38;5;28mself\u001B[39m\u001B[38;5;241m.\u001B[39mobj\u001B[38;5;241m.\u001B[39minput_spec)\n\u001B[0;32m     65\u001B[0m \u001B[38;5;28;01mif\u001B[39;00m (\u001B[38;5;28mself\u001B[39m\u001B[38;5;241m.\u001B[39mobj\u001B[38;5;241m.\u001B[39mactivity_regularizer \u001B[38;5;129;01mis\u001B[39;00m \u001B[38;5;129;01mnot\u001B[39;00m \u001B[38;5;28;01mNone\u001B[39;00m \u001B[38;5;129;01mand\u001B[39;00m\n\u001B[0;32m     66\u001B[0m     \u001B[38;5;28mhasattr\u001B[39m(\u001B[38;5;28mself\u001B[39m\u001B[38;5;241m.\u001B[39mobj\u001B[38;5;241m.\u001B[39mactivity_regularizer, \u001B[38;5;124m'\u001B[39m\u001B[38;5;124mget_config\u001B[39m\u001B[38;5;124m'\u001B[39m)):\n\u001B[1;32m---> 67\u001B[0m   metadata[\u001B[38;5;124m'\u001B[39m\u001B[38;5;124mactivity_regularizer\u001B[39m\u001B[38;5;124m'\u001B[39m] \u001B[38;5;241m=\u001B[39m \u001B[43mgeneric_utils\u001B[49m\u001B[38;5;241;43m.\u001B[39;49m\u001B[43mserialize_keras_object\u001B[49m\u001B[43m(\u001B[49m\n\u001B[0;32m     68\u001B[0m \u001B[43m      \u001B[49m\u001B[38;5;28;43mself\u001B[39;49m\u001B[38;5;241;43m.\u001B[39;49m\u001B[43mobj\u001B[49m\u001B[38;5;241;43m.\u001B[39;49m\u001B[43mactivity_regularizer\u001B[49m\u001B[43m)\u001B[49m\n\u001B[0;32m     69\u001B[0m \u001B[38;5;28;01mif\u001B[39;00m \u001B[38;5;28mself\u001B[39m\u001B[38;5;241m.\u001B[39mobj\u001B[38;5;241m.\u001B[39m_build_input_shape \u001B[38;5;129;01mis\u001B[39;00m \u001B[38;5;129;01mnot\u001B[39;00m \u001B[38;5;28;01mNone\u001B[39;00m:  \u001B[38;5;66;03m# pylint: disable=protected-access\u001B[39;00m\n\u001B[0;32m     70\u001B[0m   metadata[\u001B[38;5;124m'\u001B[39m\u001B[38;5;124mbuild_input_shape\u001B[39m\u001B[38;5;124m'\u001B[39m] \u001B[38;5;241m=\u001B[39m \u001B[38;5;28mself\u001B[39m\u001B[38;5;241m.\u001B[39mobj\u001B[38;5;241m.\u001B[39m_build_input_shape  \u001B[38;5;66;03m# pylint: disable=protected-access\u001B[39;00m\n",
      "File \u001B[1;32m~\\miniconda3\\envs\\CO2Net\\lib\\site-packages\\tensorflow\\python\\keras\\utils\\generic_utils.py:250\u001B[0m, in \u001B[0;36mserialize_keras_object\u001B[1;34m(instance)\u001B[0m\n\u001B[0;32m    247\u001B[0m   \u001B[38;5;28;01mif\u001B[39;00m _SKIP_FAILED_SERIALIZATION:\n\u001B[0;32m    248\u001B[0m     \u001B[38;5;28;01mreturn\u001B[39;00m serialize_keras_class_and_config(\n\u001B[0;32m    249\u001B[0m         name, {_LAYER_UNDEFINED_CONFIG_KEY: \u001B[38;5;28;01mTrue\u001B[39;00m})\n\u001B[1;32m--> 250\u001B[0m   \u001B[38;5;28;01mraise\u001B[39;00m e\n\u001B[0;32m    251\u001B[0m serialization_config \u001B[38;5;241m=\u001B[39m {}\n\u001B[0;32m    252\u001B[0m \u001B[38;5;28;01mfor\u001B[39;00m key, item \u001B[38;5;129;01min\u001B[39;00m config\u001B[38;5;241m.\u001B[39mitems():\n",
      "File \u001B[1;32m~\\miniconda3\\envs\\CO2Net\\lib\\site-packages\\tensorflow\\python\\keras\\utils\\generic_utils.py:245\u001B[0m, in \u001B[0;36mserialize_keras_object\u001B[1;34m(instance)\u001B[0m\n\u001B[0;32m    243\u001B[0m name \u001B[38;5;241m=\u001B[39m get_registered_name(instance\u001B[38;5;241m.\u001B[39m\u001B[38;5;18m__class__\u001B[39m)\n\u001B[0;32m    244\u001B[0m \u001B[38;5;28;01mtry\u001B[39;00m:\n\u001B[1;32m--> 245\u001B[0m   config \u001B[38;5;241m=\u001B[39m \u001B[43minstance\u001B[49m\u001B[38;5;241;43m.\u001B[39;49m\u001B[43mget_config\u001B[49m\u001B[43m(\u001B[49m\u001B[43m)\u001B[49m\n\u001B[0;32m    246\u001B[0m \u001B[38;5;28;01mexcept\u001B[39;00m \u001B[38;5;167;01mNotImplementedError\u001B[39;00m \u001B[38;5;28;01mas\u001B[39;00m e:\n\u001B[0;32m    247\u001B[0m   \u001B[38;5;28;01mif\u001B[39;00m _SKIP_FAILED_SERIALIZATION:\n",
      "Input \u001B[1;32mIn [7]\u001B[0m, in \u001B[0;36mOrthogonalRegularizer.get_config\u001B[1;34m(self)\u001B[0m\n\u001B[0;32m     13\u001B[0m \u001B[38;5;28;01mdef\u001B[39;00m \u001B[38;5;21mget_config\u001B[39m(\u001B[38;5;28mself\u001B[39m):\n\u001B[0;32m     14\u001B[0m     config \u001B[38;5;241m=\u001B[39m {\n\u001B[0;32m     15\u001B[0m         \u001B[38;5;124m\"\u001B[39m\u001B[38;5;124mnum_features\u001B[39m\u001B[38;5;124m\"\u001B[39m: \u001B[38;5;28mself\u001B[39m\u001B[38;5;241m.\u001B[39mnum_features,\n\u001B[0;32m     16\u001B[0m         \u001B[38;5;124m\"\u001B[39m\u001B[38;5;124ml2reg\u001B[39m\u001B[38;5;124m\"\u001B[39m: \u001B[38;5;28mself\u001B[39m\u001B[38;5;241m.\u001B[39ml2reg,\n\u001B[0;32m     17\u001B[0m         \u001B[38;5;124m\"\u001B[39m\u001B[38;5;124meye\u001B[39m\u001B[38;5;124m\"\u001B[39m: \u001B[38;5;28mself\u001B[39m\u001B[38;5;241m.\u001B[39meye\n\u001B[0;32m     18\u001B[0m     }\n\u001B[1;32m---> 19\u001B[0m     base_c \u001B[38;5;241m=\u001B[39m \u001B[38;5;28;43msuper\u001B[39;49m\u001B[43m(\u001B[49m\u001B[43m)\u001B[49m\u001B[38;5;241;43m.\u001B[39;49m\u001B[43mget_config\u001B[49m\u001B[43m(\u001B[49m\u001B[43m)\u001B[49m\n\u001B[0;32m     20\u001B[0m     \u001B[38;5;28;01mreturn\u001B[39;00m \u001B[38;5;28mdict\u001B[39m(\u001B[38;5;28mlist\u001B[39m(base_c\u001B[38;5;241m.\u001B[39mitems() \u001B[38;5;241m+\u001B[39m \u001B[38;5;28mlist\u001B[39m(config\u001B[38;5;241m.\u001B[39mitems())))\n",
      "File \u001B[1;32m~\\miniconda3\\envs\\CO2Net\\lib\\site-packages\\tensorflow\\python\\keras\\regularizers.py:208\u001B[0m, in \u001B[0;36mRegularizer.get_config\u001B[1;34m(self)\u001B[0m\n\u001B[0;32m    190\u001B[0m \u001B[38;5;28;01mdef\u001B[39;00m \u001B[38;5;21mget_config\u001B[39m(\u001B[38;5;28mself\u001B[39m):\n\u001B[0;32m    191\u001B[0m   \u001B[38;5;124;03m\"\"\"Returns the config of the regularizer.\u001B[39;00m\n\u001B[0;32m    192\u001B[0m \n\u001B[0;32m    193\u001B[0m \u001B[38;5;124;03m  An regularizer config is a Python dictionary (serializable)\u001B[39;00m\n\u001B[1;32m   (...)\u001B[0m\n\u001B[0;32m    206\u001B[0m \u001B[38;5;124;03m      Python dictionary.\u001B[39;00m\n\u001B[0;32m    207\u001B[0m \u001B[38;5;124;03m  \"\"\"\u001B[39;00m\n\u001B[1;32m--> 208\u001B[0m   \u001B[38;5;28;01mraise\u001B[39;00m \u001B[38;5;167;01mNotImplementedError\u001B[39;00m(\u001B[38;5;28mstr\u001B[39m(\u001B[38;5;28mself\u001B[39m) \u001B[38;5;241m+\u001B[39m \u001B[38;5;124m'\u001B[39m\u001B[38;5;124m does not implement get_config()\u001B[39m\u001B[38;5;124m'\u001B[39m)\n",
      "\u001B[1;31mNotImplementedError\u001B[0m: <__main__.OrthogonalRegularizer object at 0x000001F69DD73CD0> does not implement get_config()"
     ]
    }
   ],
   "source": [
    "model.save(\"pointnettest1\")"
   ],
   "metadata": {
    "collapsed": false,
    "pycharm": {
     "name": "#%%\n"
    }
   }
  },
  {
   "cell_type": "code",
   "execution_count": 12,
   "outputs": [
    {
     "ename": "NotImplementedError",
     "evalue": "<__main__.OrthogonalRegularizer object at 0x000001F69DD73CD0> does not implement get_config()",
     "output_type": "error",
     "traceback": [
      "\u001B[1;31m---------------------------------------------------------------------------\u001B[0m",
      "\u001B[1;31mNotImplementedError\u001B[0m                       Traceback (most recent call last)",
      "Input \u001B[1;32mIn [12]\u001B[0m, in \u001B[0;36m<cell line: 1>\u001B[1;34m()\u001B[0m\n\u001B[1;32m----> 1\u001B[0m \u001B[43mmodel\u001B[49m\u001B[38;5;241;43m.\u001B[39;49m\u001B[43mget_config\u001B[49m\u001B[43m(\u001B[49m\u001B[43m)\u001B[49m\n",
      "File \u001B[1;32m~\\miniconda3\\envs\\CO2Net\\lib\\site-packages\\tensorflow\\python\\keras\\engine\\functional.py:598\u001B[0m, in \u001B[0;36mFunctional.get_config\u001B[1;34m(self)\u001B[0m\n\u001B[0;32m    597\u001B[0m \u001B[38;5;28;01mdef\u001B[39;00m \u001B[38;5;21mget_config\u001B[39m(\u001B[38;5;28mself\u001B[39m):\n\u001B[1;32m--> 598\u001B[0m   \u001B[38;5;28;01mreturn\u001B[39;00m copy\u001B[38;5;241m.\u001B[39mdeepcopy(\u001B[43mget_network_config\u001B[49m\u001B[43m(\u001B[49m\u001B[38;5;28;43mself\u001B[39;49m\u001B[43m)\u001B[49m)\n",
      "File \u001B[1;32m~\\miniconda3\\envs\\CO2Net\\lib\\site-packages\\tensorflow\\python\\keras\\engine\\functional.py:1278\u001B[0m, in \u001B[0;36mget_network_config\u001B[1;34m(network, serialize_layer_fn)\u001B[0m\n\u001B[0;32m   1275\u001B[0m     node_data \u001B[38;5;241m=\u001B[39m node\u001B[38;5;241m.\u001B[39mserialize(_make_node_key, node_conversion_map)\n\u001B[0;32m   1276\u001B[0m     filtered_inbound_nodes\u001B[38;5;241m.\u001B[39mappend(node_data)\n\u001B[1;32m-> 1278\u001B[0m layer_config \u001B[38;5;241m=\u001B[39m \u001B[43mserialize_layer_fn\u001B[49m\u001B[43m(\u001B[49m\u001B[43mlayer\u001B[49m\u001B[43m)\u001B[49m\n\u001B[0;32m   1279\u001B[0m layer_config[\u001B[38;5;124m'\u001B[39m\u001B[38;5;124mname\u001B[39m\u001B[38;5;124m'\u001B[39m] \u001B[38;5;241m=\u001B[39m layer\u001B[38;5;241m.\u001B[39mname\n\u001B[0;32m   1280\u001B[0m layer_config[\u001B[38;5;124m'\u001B[39m\u001B[38;5;124minbound_nodes\u001B[39m\u001B[38;5;124m'\u001B[39m] \u001B[38;5;241m=\u001B[39m filtered_inbound_nodes\n",
      "File \u001B[1;32m~\\miniconda3\\envs\\CO2Net\\lib\\site-packages\\tensorflow\\python\\keras\\utils\\generic_utils.py:250\u001B[0m, in \u001B[0;36mserialize_keras_object\u001B[1;34m(instance)\u001B[0m\n\u001B[0;32m    247\u001B[0m   \u001B[38;5;28;01mif\u001B[39;00m _SKIP_FAILED_SERIALIZATION:\n\u001B[0;32m    248\u001B[0m     \u001B[38;5;28;01mreturn\u001B[39;00m serialize_keras_class_and_config(\n\u001B[0;32m    249\u001B[0m         name, {_LAYER_UNDEFINED_CONFIG_KEY: \u001B[38;5;28;01mTrue\u001B[39;00m})\n\u001B[1;32m--> 250\u001B[0m   \u001B[38;5;28;01mraise\u001B[39;00m e\n\u001B[0;32m    251\u001B[0m serialization_config \u001B[38;5;241m=\u001B[39m {}\n\u001B[0;32m    252\u001B[0m \u001B[38;5;28;01mfor\u001B[39;00m key, item \u001B[38;5;129;01min\u001B[39;00m config\u001B[38;5;241m.\u001B[39mitems():\n",
      "File \u001B[1;32m~\\miniconda3\\envs\\CO2Net\\lib\\site-packages\\tensorflow\\python\\keras\\utils\\generic_utils.py:245\u001B[0m, in \u001B[0;36mserialize_keras_object\u001B[1;34m(instance)\u001B[0m\n\u001B[0;32m    243\u001B[0m name \u001B[38;5;241m=\u001B[39m get_registered_name(instance\u001B[38;5;241m.\u001B[39m\u001B[38;5;18m__class__\u001B[39m)\n\u001B[0;32m    244\u001B[0m \u001B[38;5;28;01mtry\u001B[39;00m:\n\u001B[1;32m--> 245\u001B[0m   config \u001B[38;5;241m=\u001B[39m \u001B[43minstance\u001B[49m\u001B[38;5;241;43m.\u001B[39;49m\u001B[43mget_config\u001B[49m\u001B[43m(\u001B[49m\u001B[43m)\u001B[49m\n\u001B[0;32m    246\u001B[0m \u001B[38;5;28;01mexcept\u001B[39;00m \u001B[38;5;167;01mNotImplementedError\u001B[39;00m \u001B[38;5;28;01mas\u001B[39;00m e:\n\u001B[0;32m    247\u001B[0m   \u001B[38;5;28;01mif\u001B[39;00m _SKIP_FAILED_SERIALIZATION:\n",
      "File \u001B[1;32m~\\miniconda3\\envs\\CO2Net\\lib\\site-packages\\tensorflow\\python\\keras\\layers\\core.py:1227\u001B[0m, in \u001B[0;36mDense.get_config\u001B[1;34m(self)\u001B[0m\n\u001B[0;32m   1209\u001B[0m \u001B[38;5;28;01mdef\u001B[39;00m \u001B[38;5;21mget_config\u001B[39m(\u001B[38;5;28mself\u001B[39m):\n\u001B[0;32m   1210\u001B[0m   config \u001B[38;5;241m=\u001B[39m \u001B[38;5;28msuper\u001B[39m(Dense, \u001B[38;5;28mself\u001B[39m)\u001B[38;5;241m.\u001B[39mget_config()\n\u001B[0;32m   1211\u001B[0m   config\u001B[38;5;241m.\u001B[39mupdate({\n\u001B[0;32m   1212\u001B[0m       \u001B[38;5;124m'\u001B[39m\u001B[38;5;124munits\u001B[39m\u001B[38;5;124m'\u001B[39m:\n\u001B[0;32m   1213\u001B[0m           \u001B[38;5;28mself\u001B[39m\u001B[38;5;241m.\u001B[39munits,\n\u001B[0;32m   1214\u001B[0m       \u001B[38;5;124m'\u001B[39m\u001B[38;5;124mactivation\u001B[39m\u001B[38;5;124m'\u001B[39m:\n\u001B[0;32m   1215\u001B[0m           activations\u001B[38;5;241m.\u001B[39mserialize(\u001B[38;5;28mself\u001B[39m\u001B[38;5;241m.\u001B[39mactivation),\n\u001B[0;32m   1216\u001B[0m       \u001B[38;5;124m'\u001B[39m\u001B[38;5;124muse_bias\u001B[39m\u001B[38;5;124m'\u001B[39m:\n\u001B[0;32m   1217\u001B[0m           \u001B[38;5;28mself\u001B[39m\u001B[38;5;241m.\u001B[39muse_bias,\n\u001B[0;32m   1218\u001B[0m       \u001B[38;5;124m'\u001B[39m\u001B[38;5;124mkernel_initializer\u001B[39m\u001B[38;5;124m'\u001B[39m:\n\u001B[0;32m   1219\u001B[0m           initializers\u001B[38;5;241m.\u001B[39mserialize(\u001B[38;5;28mself\u001B[39m\u001B[38;5;241m.\u001B[39mkernel_initializer),\n\u001B[0;32m   1220\u001B[0m       \u001B[38;5;124m'\u001B[39m\u001B[38;5;124mbias_initializer\u001B[39m\u001B[38;5;124m'\u001B[39m:\n\u001B[0;32m   1221\u001B[0m           initializers\u001B[38;5;241m.\u001B[39mserialize(\u001B[38;5;28mself\u001B[39m\u001B[38;5;241m.\u001B[39mbias_initializer),\n\u001B[0;32m   1222\u001B[0m       \u001B[38;5;124m'\u001B[39m\u001B[38;5;124mkernel_regularizer\u001B[39m\u001B[38;5;124m'\u001B[39m:\n\u001B[0;32m   1223\u001B[0m           regularizers\u001B[38;5;241m.\u001B[39mserialize(\u001B[38;5;28mself\u001B[39m\u001B[38;5;241m.\u001B[39mkernel_regularizer),\n\u001B[0;32m   1224\u001B[0m       \u001B[38;5;124m'\u001B[39m\u001B[38;5;124mbias_regularizer\u001B[39m\u001B[38;5;124m'\u001B[39m:\n\u001B[0;32m   1225\u001B[0m           regularizers\u001B[38;5;241m.\u001B[39mserialize(\u001B[38;5;28mself\u001B[39m\u001B[38;5;241m.\u001B[39mbias_regularizer),\n\u001B[0;32m   1226\u001B[0m       \u001B[38;5;124m'\u001B[39m\u001B[38;5;124mactivity_regularizer\u001B[39m\u001B[38;5;124m'\u001B[39m:\n\u001B[1;32m-> 1227\u001B[0m           \u001B[43mregularizers\u001B[49m\u001B[38;5;241;43m.\u001B[39;49m\u001B[43mserialize\u001B[49m\u001B[43m(\u001B[49m\u001B[38;5;28;43mself\u001B[39;49m\u001B[38;5;241;43m.\u001B[39;49m\u001B[43mactivity_regularizer\u001B[49m\u001B[43m)\u001B[49m,\n\u001B[0;32m   1228\u001B[0m       \u001B[38;5;124m'\u001B[39m\u001B[38;5;124mkernel_constraint\u001B[39m\u001B[38;5;124m'\u001B[39m:\n\u001B[0;32m   1229\u001B[0m           constraints\u001B[38;5;241m.\u001B[39mserialize(\u001B[38;5;28mself\u001B[39m\u001B[38;5;241m.\u001B[39mkernel_constraint),\n\u001B[0;32m   1230\u001B[0m       \u001B[38;5;124m'\u001B[39m\u001B[38;5;124mbias_constraint\u001B[39m\u001B[38;5;124m'\u001B[39m:\n\u001B[0;32m   1231\u001B[0m           constraints\u001B[38;5;241m.\u001B[39mserialize(\u001B[38;5;28mself\u001B[39m\u001B[38;5;241m.\u001B[39mbias_constraint)\n\u001B[0;32m   1232\u001B[0m   })\n\u001B[0;32m   1233\u001B[0m   \u001B[38;5;28;01mreturn\u001B[39;00m config\n",
      "File \u001B[1;32m~\\miniconda3\\envs\\CO2Net\\lib\\site-packages\\tensorflow\\python\\keras\\regularizers.py:344\u001B[0m, in \u001B[0;36mserialize\u001B[1;34m(regularizer)\u001B[0m\n\u001B[0;32m    342\u001B[0m \u001B[38;5;129m@keras_export\u001B[39m(\u001B[38;5;124m'\u001B[39m\u001B[38;5;124mkeras.regularizers.serialize\u001B[39m\u001B[38;5;124m'\u001B[39m)\n\u001B[0;32m    343\u001B[0m \u001B[38;5;28;01mdef\u001B[39;00m \u001B[38;5;21mserialize\u001B[39m(regularizer):\n\u001B[1;32m--> 344\u001B[0m   \u001B[38;5;28;01mreturn\u001B[39;00m \u001B[43mserialize_keras_object\u001B[49m\u001B[43m(\u001B[49m\u001B[43mregularizer\u001B[49m\u001B[43m)\u001B[49m\n",
      "File \u001B[1;32m~\\miniconda3\\envs\\CO2Net\\lib\\site-packages\\tensorflow\\python\\keras\\utils\\generic_utils.py:250\u001B[0m, in \u001B[0;36mserialize_keras_object\u001B[1;34m(instance)\u001B[0m\n\u001B[0;32m    247\u001B[0m   \u001B[38;5;28;01mif\u001B[39;00m _SKIP_FAILED_SERIALIZATION:\n\u001B[0;32m    248\u001B[0m     \u001B[38;5;28;01mreturn\u001B[39;00m serialize_keras_class_and_config(\n\u001B[0;32m    249\u001B[0m         name, {_LAYER_UNDEFINED_CONFIG_KEY: \u001B[38;5;28;01mTrue\u001B[39;00m})\n\u001B[1;32m--> 250\u001B[0m   \u001B[38;5;28;01mraise\u001B[39;00m e\n\u001B[0;32m    251\u001B[0m serialization_config \u001B[38;5;241m=\u001B[39m {}\n\u001B[0;32m    252\u001B[0m \u001B[38;5;28;01mfor\u001B[39;00m key, item \u001B[38;5;129;01min\u001B[39;00m config\u001B[38;5;241m.\u001B[39mitems():\n",
      "File \u001B[1;32m~\\miniconda3\\envs\\CO2Net\\lib\\site-packages\\tensorflow\\python\\keras\\utils\\generic_utils.py:245\u001B[0m, in \u001B[0;36mserialize_keras_object\u001B[1;34m(instance)\u001B[0m\n\u001B[0;32m    243\u001B[0m name \u001B[38;5;241m=\u001B[39m get_registered_name(instance\u001B[38;5;241m.\u001B[39m\u001B[38;5;18m__class__\u001B[39m)\n\u001B[0;32m    244\u001B[0m \u001B[38;5;28;01mtry\u001B[39;00m:\n\u001B[1;32m--> 245\u001B[0m   config \u001B[38;5;241m=\u001B[39m \u001B[43minstance\u001B[49m\u001B[38;5;241;43m.\u001B[39;49m\u001B[43mget_config\u001B[49m\u001B[43m(\u001B[49m\u001B[43m)\u001B[49m\n\u001B[0;32m    246\u001B[0m \u001B[38;5;28;01mexcept\u001B[39;00m \u001B[38;5;167;01mNotImplementedError\u001B[39;00m \u001B[38;5;28;01mas\u001B[39;00m e:\n\u001B[0;32m    247\u001B[0m   \u001B[38;5;28;01mif\u001B[39;00m _SKIP_FAILED_SERIALIZATION:\n",
      "Input \u001B[1;32mIn [7]\u001B[0m, in \u001B[0;36mOrthogonalRegularizer.get_config\u001B[1;34m(self)\u001B[0m\n\u001B[0;32m     13\u001B[0m \u001B[38;5;28;01mdef\u001B[39;00m \u001B[38;5;21mget_config\u001B[39m(\u001B[38;5;28mself\u001B[39m):\n\u001B[0;32m     14\u001B[0m     config \u001B[38;5;241m=\u001B[39m {\n\u001B[0;32m     15\u001B[0m         \u001B[38;5;124m\"\u001B[39m\u001B[38;5;124mnum_features\u001B[39m\u001B[38;5;124m\"\u001B[39m: \u001B[38;5;28mself\u001B[39m\u001B[38;5;241m.\u001B[39mnum_features,\n\u001B[0;32m     16\u001B[0m         \u001B[38;5;124m\"\u001B[39m\u001B[38;5;124ml2reg\u001B[39m\u001B[38;5;124m\"\u001B[39m: \u001B[38;5;28mself\u001B[39m\u001B[38;5;241m.\u001B[39ml2reg,\n\u001B[0;32m     17\u001B[0m         \u001B[38;5;124m\"\u001B[39m\u001B[38;5;124meye\u001B[39m\u001B[38;5;124m\"\u001B[39m: \u001B[38;5;28mself\u001B[39m\u001B[38;5;241m.\u001B[39meye\n\u001B[0;32m     18\u001B[0m     }\n\u001B[1;32m---> 19\u001B[0m     base_c \u001B[38;5;241m=\u001B[39m \u001B[38;5;28;43msuper\u001B[39;49m\u001B[43m(\u001B[49m\u001B[43m)\u001B[49m\u001B[38;5;241;43m.\u001B[39;49m\u001B[43mget_config\u001B[49m\u001B[43m(\u001B[49m\u001B[43m)\u001B[49m\n\u001B[0;32m     20\u001B[0m     \u001B[38;5;28;01mreturn\u001B[39;00m \u001B[38;5;28mdict\u001B[39m(\u001B[38;5;28mlist\u001B[39m(base_c\u001B[38;5;241m.\u001B[39mitems() \u001B[38;5;241m+\u001B[39m \u001B[38;5;28mlist\u001B[39m(config\u001B[38;5;241m.\u001B[39mitems())))\n",
      "File \u001B[1;32m~\\miniconda3\\envs\\CO2Net\\lib\\site-packages\\tensorflow\\python\\keras\\regularizers.py:208\u001B[0m, in \u001B[0;36mRegularizer.get_config\u001B[1;34m(self)\u001B[0m\n\u001B[0;32m    190\u001B[0m \u001B[38;5;28;01mdef\u001B[39;00m \u001B[38;5;21mget_config\u001B[39m(\u001B[38;5;28mself\u001B[39m):\n\u001B[0;32m    191\u001B[0m   \u001B[38;5;124;03m\"\"\"Returns the config of the regularizer.\u001B[39;00m\n\u001B[0;32m    192\u001B[0m \n\u001B[0;32m    193\u001B[0m \u001B[38;5;124;03m  An regularizer config is a Python dictionary (serializable)\u001B[39;00m\n\u001B[1;32m   (...)\u001B[0m\n\u001B[0;32m    206\u001B[0m \u001B[38;5;124;03m      Python dictionary.\u001B[39;00m\n\u001B[0;32m    207\u001B[0m \u001B[38;5;124;03m  \"\"\"\u001B[39;00m\n\u001B[1;32m--> 208\u001B[0m   \u001B[38;5;28;01mraise\u001B[39;00m \u001B[38;5;167;01mNotImplementedError\u001B[39;00m(\u001B[38;5;28mstr\u001B[39m(\u001B[38;5;28mself\u001B[39m) \u001B[38;5;241m+\u001B[39m \u001B[38;5;124m'\u001B[39m\u001B[38;5;124m does not implement get_config()\u001B[39m\u001B[38;5;124m'\u001B[39m)\n",
      "\u001B[1;31mNotImplementedError\u001B[0m: <__main__.OrthogonalRegularizer object at 0x000001F69DD73CD0> does not implement get_config()"
     ]
    }
   ],
   "source": [
    "model.get_config()"
   ],
   "metadata": {
    "collapsed": false,
    "pycharm": {
     "name": "#%%\n"
    }
   }
  }
 ],
 "metadata": {
  "kernelspec": {
   "display_name": "Python 3",
   "language": "python",
   "name": "python3"
  },
  "language_info": {
   "codemirror_mode": {
    "name": "ipython",
    "version": 2
   },
   "file_extension": ".py",
   "mimetype": "text/x-python",
   "name": "python",
   "nbconvert_exporter": "python",
   "pygments_lexer": "ipython2",
   "version": "2.7.6"
  }
 },
 "nbformat": 4,
 "nbformat_minor": 0
}